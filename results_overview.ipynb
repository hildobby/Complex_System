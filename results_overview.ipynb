{
 "cells": [
  {
   "cell_type": "markdown",
   "metadata": {},
   "source": [
    "Overview of various experiments on the created 2 dimensions Bak-Snappen model.\n",
    "\n",
    "Created on Tuesday June 16 2020\n",
    "This code was implemented by\n",
    "Louis Weyland, Hildebert Mouilé, Philippe Nicolau & Binjie Zhou."
   ]
  },
  {
   "cell_type": "markdown",
   "metadata": {},
   "source": [
    "# Gathering required resources\n",
    "## Importing all required modules"
   ]
  },
  {
   "cell_type": "code",
   "execution_count": null,
   "metadata": {},
   "outputs": [],
   "source": [
    "import numpy as np\n",
    "from itertools import groupby\n",
    "import networkx as nx\n",
    "import matplotlib.pyplot as plt\n",
    "import matplotlib.animation as animation\n",
    "import matplotlib.cm\n",
    "from mpl_toolkits.mplot3d import Axes3D\n",
    "import collections\n",
    "from importlib import reload\n",
    "import scipy.optimize\n",
    "import pickle\n",
    "\n",
    "# import the local python modules (the classes lattice, bak-sneppen and plotting_functions)\n",
    "from src import lattice\n",
    "from src.lattice import *\n",
    "from src import bak-sneppen\n",
    "from src.bak-sneppen import *"
   ]
  },
  {
   "cell_type": "code",
   "execution_count": null,
   "metadata": {},
   "outputs": [],
   "source": [
    "%matplotlib notebook"
   ]
  },
  {
   "cell_type": "markdown",
   "metadata": {},
   "source": [
    "## Reloading the locally imported classes"
   ]
  },
  {
   "cell_type": "code",
   "execution_count": null,
   "metadata": {},
   "outputs": [],
   "source": [
    "reload(lattice)\n",
    "reload(bak-sneppen)\n",
    "from src.bak-sneppen import *\n",
    "from src.lattice import *"
   ]
  },
  {
   "cell_type": "markdown",
   "metadata": {},
   "source": [
    "# Results"
   ]
  },
  {
   "cell_type": "code",
   "execution_count": null,
   "metadata": {},
   "outputs": [],
   "source": []
  }
 ],
 "metadata": {
  "language_info": {
   "codemirror_mode": {
    "name": "ipython",
    "version": 3
   },
   "file_extension": ".py",
   "mimetype": "text/x-python",
   "name": "python",
   "nbconvert_exporter": "python",
   "pygments_lexer": "ipython3",
   "version": 3
  },
  "orig_nbformat": 2
 },
 "nbformat": 4,
 "nbformat_minor": 2
}